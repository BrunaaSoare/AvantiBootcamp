{
  "nbformat": 4,
  "nbformat_minor": 0,
  "metadata": {
    "colab": {
      "provenance": []
    },
    "kernelspec": {
      "name": "python3",
      "display_name": "Python 3"
    },
    "language_info": {
      "name": "python"
    }
  },
  "cells": [
    {
      "cell_type": "code",
      "execution_count": null,
      "metadata": {
        "colab": {
          "base_uri": "https://localhost:8080/"
        },
        "id": "vwZDzS_BkMzk",
        "outputId": "4d9b366a-233c-4989-fc2a-5aa037a83146"
      },
      "outputs": [
        {
          "output_type": "stream",
          "name": "stdout",
          "text": [
            "[1, 3, 5]\n"
          ]
        }
      ],
      "source": [
        "# questão 1\n",
        "def numeros_impares(lista):\n",
        "  num_impar = []\n",
        "  for num in lista:\n",
        "    if num % 2 != 0:\n",
        "      num_impar.append(num)\n",
        "  return num_impar\n",
        "\n",
        "numeros = [1,2,3,4,5]\n",
        "impar = numeros_impares(numeros)\n",
        "print(impar)"
      ]
    },
    {
      "cell_type": "code",
      "source": [
        "# questão 2\n",
        "def num_primos(lista):\n",
        "    primos = []\n",
        "    for numero in lista:\n",
        "        if numero > 1:\n",
        "            for i in range(2, int(numero**0.5) + 1):\n",
        "                if numero % i == 0:\n",
        "                    break\n",
        "            else:\n",
        "                primos.append(numero)\n",
        "    return primos\n",
        "\n",
        "numeros = [2, 3, 4, 5, 6, 7]\n",
        "primos = num_primos(numeros)\n",
        "print(primos)"
      ],
      "metadata": {
        "id": "8lH_HDwnu7Sc",
        "colab": {
          "base_uri": "https://localhost:8080/"
        },
        "outputId": "ebbbef85-1937-44fc-d31f-7f8415602ba0"
      },
      "execution_count": 2,
      "outputs": [
        {
          "output_type": "stream",
          "name": "stdout",
          "text": [
            "[2, 3, 5, 7]\n"
          ]
        }
      ]
    },
    {
      "cell_type": "code",
      "source": [
        "# questão 3\n",
        "def isin(lista1, lista2):\n",
        "  lista3 = []\n",
        "  for palavra in lista1:\n",
        "    if palavra not in lista2:\n",
        "      lista3.append(palavra)\n",
        "  for palavra in lista2:\n",
        "    if palavra not in lista1:\n",
        "      lista3.append(palavra)\n",
        "  return lista3\n",
        "lista1 = ['bruna', 'gabriela', 'soares', 'de', 'lima']\n",
        "lista2 = ['gabriela', 'de', 'lima', 'firmino', 'da', 'silva']\n",
        "lista3 = isin(lista1,lista2)\n",
        "print(lista3)"
      ],
      "metadata": {
        "colab": {
          "base_uri": "https://localhost:8080/"
        },
        "id": "FblGyYWw0kHH",
        "outputId": "9138bd36-7fd7-42fb-b919-7792a4e5903b"
      },
      "execution_count": 4,
      "outputs": [
        {
          "output_type": "stream",
          "name": "stdout",
          "text": [
            "['bruna', 'soares', 'firmino', 'da', 'silva']\n"
          ]
        }
      ]
    },
    {
      "cell_type": "code",
      "source": [
        "# questão 4\n",
        "def segundo_maior(lista):\n",
        "  lista.sort(reverse=True)\n",
        "  return lista[1]\n",
        "\n",
        "lista = [1,2,3,4,5,6,7,8]\n",
        "segundo_maior = segundo_maior(lista)\n",
        "print(segundo_maior)"
      ],
      "metadata": {
        "colab": {
          "base_uri": "https://localhost:8080/"
        },
        "id": "oi_c1BmD2R_g",
        "outputId": "236b9291-9a55-408c-f0f5-1501f84f337f"
      },
      "execution_count": 5,
      "outputs": [
        {
          "output_type": "stream",
          "name": "stdout",
          "text": [
            "7\n"
          ]
        }
      ]
    },
    {
      "cell_type": "code",
      "source": [
        "# questão 5\n",
        "def informaçoes(lista):\n",
        "  return sorted(lista)\n",
        "\n",
        "lista = [('bruna', 20), ('carlos', 15),('yasmin', 19), ('lucas', 21)]\n",
        "info = informaçoes(lista)\n",
        "print(info)"
      ],
      "metadata": {
        "colab": {
          "base_uri": "https://localhost:8080/"
        },
        "id": "zzmZ9kqO4C0d",
        "outputId": "189e6a6b-d6e7-4bb3-bd14-ee30b5c949a8"
      },
      "execution_count": 9,
      "outputs": [
        {
          "output_type": "stream",
          "name": "stdout",
          "text": [
            "[('bruna', 20), ('carlos', 15), ('lucas', 21), ('yasmin', 19)]\n"
          ]
        }
      ]
    },
    {
      "cell_type": "code",
      "source": [
        "# questao 6\n",
        "import matplotlib.pyplot as plt\n",
        "import numpy as np\n",
        "\n",
        "fig, axs = plt.subplots(ncols=2, nrows=2, figsize=(5.5, 3.5),\n",
        "                        constrained_layout=True)\n",
        "\n",
        "for row in range(2):\n",
        "    for col in range(2):\n",
        "        axs[row, col].annotate(f'axs[{row}, {col}]', (0.5, 0.5),\n",
        "                               xycoords='axes fraction',\n",
        "                               ha='center', va='center', fontsize=18,\n",
        "                               color='darkgrey')\n",
        "\n",
        "fig.suptitle('plt.subplots()')"
      ],
      "metadata": {
        "id": "OsvI0EGX6s8H"
      },
      "execution_count": null,
      "outputs": []
    },
    {
      "cell_type": "code",
      "source": [
        "# questao 7\n",
        "import numpy as np\n",
        "import matplotlib as mpl\n",
        "import matplotlib.pyplot as plt\n",
        "\n",
        "x = np.linspace(-2 * np.pi, 2 * np.pi, 100)\n",
        "y = np.sin(x)\n",
        "\n",
        "fig, ax = plt.subplots()\n",
        "ax.plot(x, y)"
      ],
      "metadata": {
        "id": "FNanGAOz7b_W"
      },
      "execution_count": null,
      "outputs": []
    },
    {
      "cell_type": "code",
      "source": [
        "# questao 8\n",
        "import pandas as pd\n",
        "dataframe = pd.read_csv(\"caminho do csv\")\n",
        "dataframe.head"
      ],
      "metadata": {
        "id": "GbfTnfYi7q8w"
      },
      "execution_count": null,
      "outputs": []
    },
    {
      "cell_type": "code",
      "source": [
        "# questao 9\n",
        "import pandas as pd\n",
        "coluna_salario = dataframe['salario']\n",
        "filtro = dataframe.loc[dataframe['salario'] > 5000]"
      ],
      "metadata": {
        "id": "KAEUfsb98FFf"
      },
      "execution_count": null,
      "outputs": []
    },
    {
      "cell_type": "code",
      "source": [
        "# questao 10\n",
        "# é recomendado realizar a remoção desses dados:\n",
        "dataframe.dropna()"
      ],
      "metadata": {
        "id": "W9J-EV2Q8siG"
      },
      "execution_count": null,
      "outputs": []
    }
  ]
}